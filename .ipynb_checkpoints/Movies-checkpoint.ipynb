{
 "cells": [
  {
   "cell_type": "code",
   "execution_count": 1,
   "id": "0d226c78-8d67-4308-9db4-dc52bf614bc8",
   "metadata": {},
   "outputs": [],
   "source": [
    "import pandas as pd\n",
    "import numpy as np\n",
    "import ast\n",
    "import pickle\n",
    "from sklearn.feature_extraction.text import TfidfVectorizer\n",
    "from sklearn.metrics.pairwise import cosine_similarity\n",
    "\n",
    "# Load datasets\n",
    "movies = pd.read_csv('tmdb_5000_movies.csv')\n",
    "credits = pd.read_csv('tmdb_5000_credits.csv')\n",
    "\n",
    "# Merge on 'title'\n",
    "movies = movies.merge(credits, on='title')\n"
   ]
  },
  {
   "cell_type": "code",
   "execution_count": 2,
   "id": "18150d17-405f-4559-96f6-a3ca9233efb9",
   "metadata": {},
   "outputs": [],
   "source": [
    "# Keep only the columns we care about\n",
    "movies = movies[['movie_id', 'title', 'overview', 'genres', 'keywords', 'cast', 'crew']]\n"
   ]
  },
  {
   "cell_type": "code",
   "execution_count": 3,
   "id": "1b9a8714-fe28-4310-a608-08f7f4c56694",
   "metadata": {},
   "outputs": [],
   "source": [
    "# Convert JSON-style strings to lists\n",
    "\n",
    "def convert(obj):\n",
    "    L = []\n",
    "    for i in ast.literal_eval(obj):\n",
    "        L.append(i['name'])\n",
    "    return L\n",
    "\n",
    "movies['genres'] = movies['genres'].apply(convert)\n",
    "movies['keywords'] = movies['keywords'].apply(convert)\n"
   ]
  },
  {
   "cell_type": "code",
   "execution_count": 4,
   "id": "db85ade9-7fc2-4275-8286-225961b31fe8",
   "metadata": {},
   "outputs": [],
   "source": [
    "def convert_cast(obj):\n",
    "    L = []\n",
    "    count = 0\n",
    "    for i in ast.literal_eval(obj):\n",
    "        if count < 3:\n",
    "            L.append(i['name'])\n",
    "            count += 1\n",
    "        else:\n",
    "            break\n",
    "    return L\n",
    "\n",
    "movies['cast'] = movies['cast'].apply(convert_cast)\n"
   ]
  },
  {
   "cell_type": "code",
   "execution_count": null,
   "id": "066787e3-e648-403f-85d2-be95f0a726cf",
   "metadata": {},
   "outputs": [],
   "source": [
    "def fetch_director(obj):\n",
    "    for i in ast.literal_eval(obj):\n",
    "        if i['job'] == 'Director':\n",
    "            return [i['name']]\n",
    "    return []\n",
    "\n",
    "movies['crew'] = movies['crew'].apply(fetch_director)\n"
   ]
  },
  {
   "cell_type": "code",
   "execution_count": null,
   "id": "a0213302-1925-4286-8058-6ddb1fd6b779",
   "metadata": {},
   "outputs": [],
   "source": [
    "# Fill NaNs and split overview\n",
    "movies['overview'] = movies['overview'].fillna(\"\").apply(lambda x: x.split())\n"
   ]
  },
  {
   "cell_type": "code",
   "execution_count": null,
   "id": "18816da6-6566-41d0-90a9-2c50d213e408",
   "metadata": {},
   "outputs": [],
   "source": [
    "# Combine all useful info into one list column\n",
    "movies['tags'] = movies['overview'] + movies['genres'] + movies['keywords'] + movies['cast'] + movies['crew']\n",
    "    "
   ]
  },
  {
   "cell_type": "code",
   "execution_count": null,
   "id": "c468a9d6-d778-418d-9293-cef511f52fa5",
   "metadata": {},
   "outputs": [],
   "source": [
    "# Convert list to lowercase string\n",
    "movies['tags'] = movies['tags'].apply(lambda x: \" \".join(x).lower())\n"
   ]
  },
  {
   "cell_type": "code",
   "execution_count": null,
   "id": "bdb45692-b195-49d9-9f7f-53dfa9f3b6fe",
   "metadata": {},
   "outputs": [],
   "source": [
    "# TF-IDF Vectorizer\n",
    "tfidf = TfidfVectorizer(max_features=5000, stop_words='english')\n",
    "vectors = tfidf.fit_transform(movies['tags']).toarray()\n",
    "\n",
    "# Cosine similarity\n",
    "similarity = cosine_similarity(vectors)\n"
   ]
  },
  {
   "cell_type": "code",
   "execution_count": null,
   "id": "28574a80-369b-449d-a4e1-b3927161e6df",
   "metadata": {},
   "outputs": [],
   "source": [
    "# Save only useful columns, retain genres\n",
    "final_df = movies[['movie_id', 'title', 'tags', 'genres']].copy()\n",
    "\n",
    "# Save pickles\n",
    "pickle.dump(final_df, open('movies.pkl', 'wb'))\n",
    "pickle.dump(similarity, open('similarity.pkl', 'wb'))\n"
   ]
  }
 ],
 "metadata": {
  "kernelspec": {
   "display_name": "Python 3 (ipykernel)",
   "language": "python",
   "name": "python3"
  },
  "language_info": {
   "codemirror_mode": {
    "name": "ipython",
    "version": 3
   },
   "file_extension": ".py",
   "mimetype": "text/x-python",
   "name": "python",
   "nbconvert_exporter": "python",
   "pygments_lexer": "ipython3",
   "version": "3.13.3"
  }
 },
 "nbformat": 4,
 "nbformat_minor": 5
}
